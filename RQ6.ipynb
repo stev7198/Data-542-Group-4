{
 "cells": [
  {
   "cell_type": "code",
   "execution_count": 1,
   "id": "9b9a7fa7-cfc8-4ba1-b912-a460818175e6",
   "metadata": {},
   "outputs": [],
   "source": [
    "# Research Question 6. What types of quality issues are common in ChatGPT-generated code, focusing on Python, JavaScript, and Bash?\n",
    "# Group 4: Shiqi Zhang, Tyler Stevenson, Zefeng Pei"
   ]
  },
  {
   "cell_type": "code",
   "execution_count": 37,
   "id": "ab0923fe-10a1-4159-9a39-7ee2dcca2ddb",
   "metadata": {},
   "outputs": [],
   "source": [
    "import pandas as pd\n",
    "import json\n",
    "import os\n",
    "import subprocess\n",
    "import re\n",
    "import altair as alt\n",
    "from collections import Counter\n"
   ]
  },
  {
   "cell_type": "code",
   "execution_count": 3,
   "id": "40610499-da2f-4c70-803b-10dcb1d90410",
   "metadata": {},
   "outputs": [
    {
     "data": {
      "text/html": [
       "<div>\n",
       "<style scoped>\n",
       "    .dataframe tbody tr th:only-of-type {\n",
       "        vertical-align: middle;\n",
       "    }\n",
       "\n",
       "    .dataframe tbody tr th {\n",
       "        vertical-align: top;\n",
       "    }\n",
       "\n",
       "    .dataframe thead th {\n",
       "        text-align: right;\n",
       "    }\n",
       "</style>\n",
       "<table border=\"1\" class=\"dataframe\">\n",
       "  <thead>\n",
       "    <tr style=\"text-align: right;\">\n",
       "      <th></th>\n",
       "      <th>Type</th>\n",
       "      <th>Content</th>\n",
       "    </tr>\n",
       "  </thead>\n",
       "  <tbody>\n",
       "    <tr>\n",
       "      <th>0</th>\n",
       "      <td>bash</td>\n",
       "      <td>sudo apt update\\nsudo apt install git\\n</td>\n",
       "    </tr>\n",
       "    <tr>\n",
       "      <th>1</th>\n",
       "      <td>bash</td>\n",
       "      <td>sudo dnf install git\\n</td>\n",
       "    </tr>\n",
       "    <tr>\n",
       "      <th>2</th>\n",
       "      <td>bash</td>\n",
       "      <td>sudo yum install git\\n</td>\n",
       "    </tr>\n",
       "    <tr>\n",
       "      <th>3</th>\n",
       "      <td>bash</td>\n",
       "      <td>sudo dnf install git\\n</td>\n",
       "    </tr>\n",
       "    <tr>\n",
       "      <th>4</th>\n",
       "      <td>bash</td>\n",
       "      <td>sudo zypper install git\\n</td>\n",
       "    </tr>\n",
       "    <tr>\n",
       "      <th>...</th>\n",
       "      <td>...</td>\n",
       "      <td>...</td>\n",
       "    </tr>\n",
       "    <tr>\n",
       "      <th>14127</th>\n",
       "      <td>python</td>\n",
       "      <td>m = folium.Map()\\n</td>\n",
       "    </tr>\n",
       "    <tr>\n",
       "      <th>14128</th>\n",
       "      <td>python</td>\n",
       "      <td>geojson_data = gdf.to_json()\\n</td>\n",
       "    </tr>\n",
       "    <tr>\n",
       "      <th>14129</th>\n",
       "      <td>python</td>\n",
       "      <td>folium.GeoJson(geojson_data).add_to(m)\\n</td>\n",
       "    </tr>\n",
       "    <tr>\n",
       "      <th>14130</th>\n",
       "      <td>python</td>\n",
       "      <td>m.save('map.html')\\n# OR\\nm\\n</td>\n",
       "    </tr>\n",
       "    <tr>\n",
       "      <th>14131</th>\n",
       "      <td>python</td>\n",
       "      <td>import geopandas as gpd\\nimport folium\\n\\n# Re...</td>\n",
       "    </tr>\n",
       "  </tbody>\n",
       "</table>\n",
       "<p>14132 rows × 2 columns</p>\n",
       "</div>"
      ],
      "text/plain": [
       "         Type                                            Content\n",
       "0        bash            sudo apt update\\nsudo apt install git\\n\n",
       "1        bash                             sudo dnf install git\\n\n",
       "2        bash                             sudo yum install git\\n\n",
       "3        bash                             sudo dnf install git\\n\n",
       "4        bash                          sudo zypper install git\\n\n",
       "...       ...                                                ...\n",
       "14127  python                                 m = folium.Map()\\n\n",
       "14128  python                     geojson_data = gdf.to_json()\\n\n",
       "14129  python           folium.GeoJson(geojson_data).add_to(m)\\n\n",
       "14130  python                      m.save('map.html')\\n# OR\\nm\\n\n",
       "14131  python  import geopandas as gpd\\nimport folium\\n\\n# Re...\n",
       "\n",
       "[14132 rows x 2 columns]"
      ]
     },
     "execution_count": 3,
     "metadata": {},
     "output_type": "execute_result"
    }
   ],
   "source": [
    "# Load the JSON file\n",
    "with open(\"20231012_234250_file_sharings.json\", \"r\", encoding=\"utf-8\") as f:\n",
    "    data = json.load(f)\n",
    "\n",
    "# Extract ListOfCode content\n",
    "code_snippets = []\n",
    "\n",
    "for chat in data.get(\"Sources\", []):\n",
    "    for conversation in chat.get(\"ChatgptSharing\", []):\n",
    "        for conv in conversation.get(\"Conversations\", []):\n",
    "            for code in conv.get(\"ListOfCode\", []):\n",
    "                code_snippets.append({\n",
    "                    \"Type\": code.get(\"Type\", \"Unknown\"),  # Handle missing Type\n",
    "                    \"Content\": code.get(\"Content\", \"\"),  # Handle missing Content\n",
    "                })\n",
    "\n",
    "# Convert to DataFrame\n",
    "df = pd.DataFrame(code_snippets)\n",
    "\n",
    "# Display the DataFrame\n",
    "df"
   ]
  },
  {
   "cell_type": "code",
   "execution_count": 4,
   "id": "c4884c0e-fa67-4069-b25c-48ee7205d03c",
   "metadata": {},
   "outputs": [
    {
     "data": {
      "text/plain": [
       "array(['bash', 'python', 'csv', 'json', 'typescript', 'yaml', 'lua',\n",
       "       'javascript', 'css', 'csharp', 'SudoLang', 'c', 'go', 'text',\n",
       "       'arduino', None, 'makefile', 'powershell', 'swift', 'dart',\n",
       "       'plaintext', 'cmd', 'markdown', 'scss', 'java', 'ql', 'codeql',\n",
       "       'shell', 'R', 'dot', 'html', 'cpp', 'vbnet', 'excel', 'hcl',\n",
       "       'prisma', 'ts', 'rust', 'matlab', 'perl', 'ejs', 'solidity',\n",
       "       'ruby', 'less', 'sql', 'php', 'plantuml', 'liquid', 'diff',\n",
       "       'gradle', 'kotlin', 'groovy', 'xml', 'CPP', 'jsx', 'vba',\n",
       "       'haskell', 'http', 'toml', 'vue', 'Dockerfile', 'mathematica',\n",
       "       'verilog', 'js', 'ini', 'nginx', 'tsx', 'hlsl', 'sh', 'regex',\n",
       "       'qmake', 'elixir', 'mermaid', 'glsl', 'cmake', 'make', 'objective',\n",
       "       'c#', 'C#', 'latex', 'pseudo', 'elisp', 'batch', 'jsonl', 'razor',\n",
       "       'julia', 'apex', 'yml', 'ocaml', 'r', 'turtle', 'vim', 'proto',\n",
       "       'graphql', 'objc', 'emacs', 'lisp', 'applescript', 'clojure',\n",
       "       'env', 'tf', 'dslx', 'properties', 'assembly', '\"', 'janet',\n",
       "       'Apex'], dtype=object)"
      ]
     },
     "execution_count": 4,
     "metadata": {},
     "output_type": "execute_result"
    }
   ],
   "source": [
    "df['Type'].unique()"
   ]
  },
  {
   "cell_type": "code",
   "execution_count": 6,
   "id": "9a340a74-61c7-450e-9bbe-7a6c7c626bca",
   "metadata": {},
   "outputs": [
    {
     "name": "stderr",
     "output_type": "stream",
     "text": [
      "/var/folders/dk/dhr000z54k5gb_r199ddz4m00000gn/T/ipykernel_3784/2922632401.py:7: DeprecationWarning: DataFrameGroupBy.apply operated on the grouping columns. This behavior is deprecated, and in a future version of pandas the grouping columns will be excluded from the operation. Either pass `include_groups=False` to exclude the groupings or explicitly select the grouping columns after groupby to silence this warning.\n",
      "  df_sampled = df_filtered.groupby(\"Type\").apply(lambda x: x.sample(n=500, random_state=42)).reset_index(drop=True)\n"
     ]
    },
    {
     "data": {
      "text/html": [
       "<div>\n",
       "<style scoped>\n",
       "    .dataframe tbody tr th:only-of-type {\n",
       "        vertical-align: middle;\n",
       "    }\n",
       "\n",
       "    .dataframe tbody tr th {\n",
       "        vertical-align: top;\n",
       "    }\n",
       "\n",
       "    .dataframe thead th {\n",
       "        text-align: right;\n",
       "    }\n",
       "</style>\n",
       "<table border=\"1\" class=\"dataframe\">\n",
       "  <thead>\n",
       "    <tr style=\"text-align: right;\">\n",
       "      <th></th>\n",
       "      <th>Type</th>\n",
       "      <th>Content</th>\n",
       "    </tr>\n",
       "  </thead>\n",
       "  <tbody>\n",
       "    <tr>\n",
       "      <th>0</th>\n",
       "      <td>bash</td>\n",
       "      <td>pip install pygame\\n</td>\n",
       "    </tr>\n",
       "    <tr>\n",
       "      <th>1</th>\n",
       "      <td>bash</td>\n",
       "      <td>pipenv install django\\n</td>\n",
       "    </tr>\n",
       "    <tr>\n",
       "      <th>2</th>\n",
       "      <td>bash</td>\n",
       "      <td>source ~/.bashrc  # If using bash\\n# or\\nsourc...</td>\n",
       "    </tr>\n",
       "    <tr>\n",
       "      <th>3</th>\n",
       "      <td>bash</td>\n",
       "      <td>export PATH=$PATH:/mingw64/bin\\n</td>\n",
       "    </tr>\n",
       "    <tr>\n",
       "      <th>4</th>\n",
       "      <td>bash</td>\n",
       "      <td>git checkout &lt;your-branch&gt;\\n</td>\n",
       "    </tr>\n",
       "    <tr>\n",
       "      <th>...</th>\n",
       "      <td>...</td>\n",
       "      <td>...</td>\n",
       "    </tr>\n",
       "    <tr>\n",
       "      <th>1495</th>\n",
       "      <td>python</td>\n",
       "      <td>genrule(\\n    name = \"build_docker_image\",\\n  ...</td>\n",
       "    </tr>\n",
       "    <tr>\n",
       "      <th>1496</th>\n",
       "      <td>python</td>\n",
       "      <td>q_learning_instance = QLearning(initial_board,...</td>\n",
       "    </tr>\n",
       "    <tr>\n",
       "      <th>1497</th>\n",
       "      <td>python</td>\n",
       "      <td># Use loc to select rows based on a condition\\...</td>\n",
       "    </tr>\n",
       "    <tr>\n",
       "      <th>1498</th>\n",
       "      <td>python</td>\n",
       "      <td>This is a text file.\\n@other_file.txt\\nThis is...</td>\n",
       "    </tr>\n",
       "    <tr>\n",
       "      <th>1499</th>\n",
       "      <td>python</td>\n",
       "      <td>for v in G.vertices():\\n</td>\n",
       "    </tr>\n",
       "  </tbody>\n",
       "</table>\n",
       "<p>1500 rows × 2 columns</p>\n",
       "</div>"
      ],
      "text/plain": [
       "        Type                                            Content\n",
       "0       bash                               pip install pygame\\n\n",
       "1       bash                            pipenv install django\\n\n",
       "2       bash  source ~/.bashrc  # If using bash\\n# or\\nsourc...\n",
       "3       bash                   export PATH=$PATH:/mingw64/bin\\n\n",
       "4       bash                       git checkout <your-branch>\\n\n",
       "...      ...                                                ...\n",
       "1495  python  genrule(\\n    name = \"build_docker_image\",\\n  ...\n",
       "1496  python  q_learning_instance = QLearning(initial_board,...\n",
       "1497  python  # Use loc to select rows based on a condition\\...\n",
       "1498  python  This is a text file.\\n@other_file.txt\\nThis is...\n",
       "1499  python                           for v in G.vertices():\\n\n",
       "\n",
       "[1500 rows x 2 columns]"
      ]
     },
     "execution_count": 6,
     "metadata": {},
     "output_type": "execute_result"
    }
   ],
   "source": [
    "# Load the dataset\n",
    "df_filtered = df[df[\"Type\"].isin([\"python\", \"javascript\", \"bash\"])]\n",
    "\n",
    "# Sample 100 snippets per language\n",
    "df_sampled = df_filtered.groupby(\"Type\").apply(lambda x: x.sample(n=500, random_state=42)).reset_index(drop=True)\n",
    "\n",
    "df_sampled"
   ]
  },
  {
   "cell_type": "code",
   "execution_count": 7,
   "id": "0e461f20-df87-4f2f-ba8c-48f5140c2359",
   "metadata": {},
   "outputs": [
    {
     "name": "stdout",
     "output_type": "stream",
     "text": [
      "Sampled code snippets saved as files in 'sampled_code_snippets/'\n"
     ]
    }
   ],
   "source": [
    "output_dir = \"sampled_code_snippets\"\n",
    "os.makedirs(output_dir, exist_ok=True)\n",
    "\n",
    "# File extensions per language\n",
    "file_extensions = {\"python\": \"py\", \"javascript\": \"js\", \"bash\": \"sh\"}\n",
    "\n",
    "# Save each sampled snippet as a separate file\n",
    "for idx, row in df_sampled.iterrows():\n",
    "    lang = row[\"Type\"]\n",
    "    file_path = os.path.join(output_dir, f\"{lang}_code_{idx}.{file_extensions[lang]}\")\n",
    "    \n",
    "    with open(file_path, \"w\") as f:\n",
    "        f.write(row[\"Content\"])\n",
    "\n",
    "print(\"Sampled code snippets saved as files in 'sampled_code_snippets/'\")"
   ]
  },
  {
   "cell_type": "code",
   "execution_count": 8,
   "id": "4ae3f2a2-a9a2-47c4-ae36-49c1d602b47b",
   "metadata": {},
   "outputs": [
    {
     "name": "stdout",
     "output_type": "stream",
     "text": [
      "Linter completed. Saving results...\n",
      "Linter results saved to 'linter_results_sampled.csv'\n"
     ]
    }
   ],
   "source": [
    "# Define the directory containing sampled snippets\n",
    "code_dir = \"sampled_code_snippets\"\n",
    "\n",
    "# Initialize results storage\n",
    "linter_results = []\n",
    "\n",
    "# Define linter commands for each language (only key checks for efficiency)\n",
    "linters = {\n",
    "    \"python\": [\"pylint\"],\n",
    "    \"javascript\": [\"eslint\"],\n",
    "    \"bash\": [\"shellcheck\"]\n",
    "}\n",
    "\n",
    "# Get all sampled code files\n",
    "code_files = [f for f in os.listdir(code_dir) if f.endswith((\".py\", \".js\", \".sh\"))]\n",
    "\n",
    "# Process each file\n",
    "for file in code_files:\n",
    "    file_path = os.path.join(code_dir, file)\n",
    "    lang = \"python\" if file.endswith(\".py\") else \"javascript\" if file.endswith(\".js\") else \"bash\"\n",
    "\n",
    "    # Run the linter\n",
    "    linter_cmd = linters[lang] + [file_path]\n",
    "    result = subprocess.run(linter_cmd, capture_output=True, text=True)\n",
    "    \n",
    "    # Store only the first 5000 characters to avoid huge logs\n",
    "    linter_results.append({\"File\": file, \"Language\": lang, \"Linter Output\": result.stdout[:5000]})\n",
    "\n",
    "print(\"Linter completed. Saving results...\")\n",
    "\n",
    "# Save results to CSV\n",
    "df_results = pd.DataFrame(linter_results)\n",
    "df_results.to_csv(\"linter_results_sampled.csv\", index=False)\n",
    "\n",
    "print(\"Linter results saved to 'linter_results_sampled.csv'\")"
   ]
  },
  {
   "cell_type": "code",
   "execution_count": 9,
   "id": "761efae8-41cd-48ea-8b47-781371f24eb6",
   "metadata": {},
   "outputs": [],
   "source": [
    "# start point for analysis\n",
    "df_results = pd.read_csv(\"linter_results_sampled.csv\")\n"
   ]
  },
  {
   "cell_type": "code",
   "execution_count": 10,
   "id": "d3770346-5d6e-4170-ae78-138366d00edf",
   "metadata": {},
   "outputs": [
    {
     "name": "stdout",
     "output_type": "stream",
     "text": [
      "Total length of combined linter text: 886567\n"
     ]
    }
   ],
   "source": [
    "# Combine all linter messages into a single text\n",
    "all_linter_text = \" \".join(df_results[\"Linter Output\"].dropna())\n",
    "\n",
    "print(\"Total length of combined linter text:\", len(all_linter_text))"
   ]
  },
  {
   "cell_type": "code",
   "execution_count": 29,
   "id": "a0ee446b-b65c-4e88-8f79-1c8badb52217",
   "metadata": {},
   "outputs": [],
   "source": [
    "# Define non-meaningful errors\n",
    "non_meaningful_shellcheck = {\n",
    "    \"SC2148\" # unknown shell\n",
    "}\n",
    "\n",
    "non_meaningful_pylint = {\n",
    "    \"E0401\", # import error\n",
    "    \"E0602\", # undefined variable\n",
    "    \"F0002\" # astroid-error\n",
    "}\n",
    "\n",
    "non_meaningful_eslint = {  # Fetch full list from: https://denar90.github.io/eslint.github.io/docs/rules/\n",
    "    \"no-undef\", \"import/no-unresolved\", \"import/named\", \"import/namespace\", \"import/default\", \"import/no-extraneous-dependencies\"\n",
    "}\n",
    "\n",
    "# Combine all non-meaningful error sets with file path\n",
    "non_meaningful_errors = non_meaningful_shellcheck | non_meaningful_pylint | non_meaningful_eslint | {\"/Users/shiqizhang/DATA542/Data-542-Group-4\"}\n",
    "\n"
   ]
  },
  {
   "cell_type": "code",
   "execution_count": 30,
   "id": "9f4fd390-0739-4c95-858b-fa874a089e70",
   "metadata": {},
   "outputs": [
    {
     "name": "stdout",
     "output_type": "stream",
     "text": [
      "Total extracted sentences: 20169\n",
      "Sample sentence before filtering: ['\\x1b[0m\\x1b[0m', '\\x1b[0m\\x1b[4m/Users/shiqizhang/DATA542/Data-542-Group-4/sampled_code_snippets/javascript_code_956', 'js\\x1b[24m\\x1b[0m', \"\\x1b[0m  \\x1b[2m1:24\\x1b[22m  \\x1b[31merror\\x1b[39m  'axios' is not defined     \\x1b[2mno-undef\\x1b[22m\\x1b[0m\", \"\\x1b[0m  \\x1b[2m9:1\\x1b[22m   \\x1b[31merror\\x1b[39m  'setimage' is not defined  \\x1b[2mno-undef\\x1b[22m\\x1b[0m\"]\n",
      "Remaining valid sentences: 16409\n",
      "Sample sentence after filtering: ['\\x1b[0m\\x1b[0m', 'js\\x1b[24m\\x1b[0m', '\\x1b[0m\\x1b[0m', '\\x1b[0m\\x1b[31m\\x1b[1m✖ 2 problems (2 errors, 0 warnings)\\x1b[22m\\x1b[39m\\x1b[0m', '\\x1b[0m\\x1b[31m\\x1b[1m\\x1b[22m\\x1b[39m\\x1b[0m']\n"
     ]
    }
   ],
   "source": [
    "# Split text into sentences using regex (splitting on line breaks, periods, or semicolons)\n",
    "linter_sentences = re.split(r'[\\n;.]+', all_linter_text)\n",
    "\n",
    "print(\"Total extracted sentences:\", len(linter_sentences))\n",
    "print(\"Sample sentence before filtering:\", linter_sentences[:5])  # Preview first few sentences\n",
    "\n",
    "# Keep only meaningful sentences\n",
    "filtered_sentences = [\n",
    "    sentence for sentence in linter_sentences\n",
    "    if not any(error_code in sentence for error_code in non_meaningful_errors)\n",
    "]\n",
    "\n",
    "print(\"Remaining valid sentences:\", len(filtered_sentences))\n",
    "print(\"Sample sentence after filtering:\", filtered_sentences[:5])  # Preview first few sentences\n"
   ]
  },
  {
   "cell_type": "code",
   "execution_count": 31,
   "id": "2f7c80cb-68c3-4585-bcf2-4034991fe3da",
   "metadata": {},
   "outputs": [
    {
     "name": "stdout",
     "output_type": "stream",
     "text": [
      "Total length after filtering: 590416\n",
      "Filtered linter output saved as cleaned_linter_output.txt\n"
     ]
    }
   ],
   "source": [
    "# Reconstruct cleaned linter output as a single text block\n",
    "cleaned_linter_text = \" \".join(filtered_sentences)\n",
    "\n",
    "print(\"Total length after filtering:\", len(cleaned_linter_text))\n",
    "\n",
    "# Save cleaned text to a file\n",
    "with open(\"cleaned_linter_output.txt\", \"w\") as f:\n",
    "    f.write(cleaned_linter_text)\n",
    "\n",
    "print(\"Filtered linter output saved as cleaned_linter_output.txt\")\n"
   ]
  },
  {
   "cell_type": "code",
   "execution_count": 40,
   "id": "e1088ffb-db70-4bc5-9f42-660f3c49f084",
   "metadata": {
    "scrolled": true
   },
   "outputs": [
    {
     "name": "stdout",
     "output_type": "stream",
     "text": [
      "Total characters before ANSI cleaning: 590416\n",
      "Total characters after ANSI cleaning: 545463\n"
     ]
    }
   ],
   "source": [
    "import re\n",
    "\n",
    "# Function to remove ANSI escape sequences\n",
    "def remove_ansi_codes(text):\n",
    "    ansi_escape = re.compile(r'\\x1B(?:[@-Z\\\\-_]|\\[[0-?]*[ -/]*[@-~])')\n",
    "    return ansi_escape.sub('', text)\n",
    "\n",
    "# Read raw linter output\n",
    "with open(\"cleaned_linter_output.txt\", \"r\", encoding=\"utf-8\") as f:\n",
    "    raw_text = f.read()\n",
    "\n",
    "print(\"Total characters before ANSI cleaning:\", len(raw_text))\n",
    "\n",
    "# Remove ANSI escape codes\n",
    "cleaned_text = remove_ansi_codes(raw_text)\n",
    "\n",
    "# Save the cleaned output back to the file\n",
    "with open(\"cleaned_linter_output.txt\", \"w\", encoding=\"utf-8\") as f:\n",
    "    f.write(cleaned_text)\n",
    "\n",
    "print(\"Total characters after ANSI cleaning:\", len(cleaned_text))\n"
   ]
  },
  {
   "cell_type": "code",
   "execution_count": 41,
   "id": "e7a0100d-62a4-469f-ab4e-f1cf9d754f2c",
   "metadata": {},
   "outputs": [
    {
     "data": {
      "text/html": [
       "<div>\n",
       "<style scoped>\n",
       "    .dataframe tbody tr th:only-of-type {\n",
       "        vertical-align: middle;\n",
       "    }\n",
       "\n",
       "    .dataframe tbody tr th {\n",
       "        vertical-align: top;\n",
       "    }\n",
       "\n",
       "    .dataframe thead th {\n",
       "        text-align: right;\n",
       "    }\n",
       "</style>\n",
       "<table border=\"1\" class=\"dataframe\">\n",
       "  <thead>\n",
       "    <tr style=\"text-align: right;\">\n",
       "      <th></th>\n",
       "      <th>Error Code</th>\n",
       "      <th>Count</th>\n",
       "    </tr>\n",
       "  </thead>\n",
       "  <tbody>\n",
       "    <tr>\n",
       "      <th>2</th>\n",
       "      <td>C0114</td>\n",
       "      <td>460</td>\n",
       "    </tr>\n",
       "    <tr>\n",
       "      <th>6</th>\n",
       "      <td>C0103</td>\n",
       "      <td>303</td>\n",
       "    </tr>\n",
       "    <tr>\n",
       "      <th>49</th>\n",
       "      <td>C0303</td>\n",
       "      <td>294</td>\n",
       "    </tr>\n",
       "    <tr>\n",
       "      <th>4</th>\n",
       "      <td>C0116</td>\n",
       "      <td>287</td>\n",
       "    </tr>\n",
       "    <tr>\n",
       "      <th>0</th>\n",
       "      <td>no-unused-vars</td>\n",
       "      <td>245</td>\n",
       "    </tr>\n",
       "    <tr>\n",
       "      <th>...</th>\n",
       "      <td>...</td>\n",
       "      <td>...</td>\n",
       "    </tr>\n",
       "    <tr>\n",
       "      <th>1</th>\n",
       "      <td>no-drop</td>\n",
       "      <td>1</td>\n",
       "    </tr>\n",
       "    <tr>\n",
       "      <th>52</th>\n",
       "      <td>W0640</td>\n",
       "      <td>1</td>\n",
       "    </tr>\n",
       "    <tr>\n",
       "      <th>62</th>\n",
       "      <td>W2301</td>\n",
       "      <td>1</td>\n",
       "    </tr>\n",
       "    <tr>\n",
       "      <th>54</th>\n",
       "      <td>W0702</td>\n",
       "      <td>1</td>\n",
       "    </tr>\n",
       "    <tr>\n",
       "      <th>51</th>\n",
       "      <td>W0511</td>\n",
       "      <td>1</td>\n",
       "    </tr>\n",
       "  </tbody>\n",
       "</table>\n",
       "<p>102 rows × 2 columns</p>\n",
       "</div>"
      ],
      "text/plain": [
       "        Error Code  Count\n",
       "2            C0114    460\n",
       "6            C0103    303\n",
       "49           C0303    294\n",
       "4            C0116    287\n",
       "0   no-unused-vars    245\n",
       "..             ...    ...\n",
       "1          no-drop      1\n",
       "52           W0640      1\n",
       "62           W2301      1\n",
       "54           W0702      1\n",
       "51           W0511      1\n",
       "\n",
       "[102 rows x 2 columns]"
      ]
     },
     "execution_count": 41,
     "metadata": {},
     "output_type": "execute_result"
    }
   ],
   "source": [
    "# Updated regex to capture all error types\n",
    "error_pattern = r'\\b[A-Z]{1,2}\\d{3,4}\\b|\\bno-[a-z-]+\\b'  # Matches SC1063, E0602, and ESLint errors like no-unused-vars\n",
    "\n",
    "# Extract all error codes\n",
    "error_codes = re.findall(error_pattern, cleaned_text)\n",
    "\n",
    "# Count occurrences of each error\n",
    "error_counts = Counter(error_codes)\n",
    "\n",
    "# Convert to DataFrame for visualization\n",
    "import pandas as pd\n",
    "df_error_counts = pd.DataFrame(error_counts.items(), columns=[\"Error Code\", \"Count\"]).sort_values(by=\"Count\", ascending=False)\n",
    "\n",
    "# Display results\n",
    "df_error_counts"
   ]
  },
  {
   "cell_type": "code",
   "execution_count": 42,
   "id": "41145a92-8f7f-4720-badf-5abdae7624a0",
   "metadata": {},
   "outputs": [
    {
     "name": "stdout",
     "output_type": "stream",
     "text": [
      "Top 10 Most Frequent Issues:\n",
      "        Error Code  Count\n",
      "2            C0114    460\n",
      "6            C0103    303\n",
      "49           C0303    294\n",
      "4            C0116    287\n",
      "0   no-unused-vars    245\n",
      "9            C0301    191\n",
      "3            C0115     80\n",
      "20          SC2164     73\n",
      "23           W0621     61\n",
      "18          SC2086     61\n"
     ]
    }
   ],
   "source": [
    "print(\"Top 10 Most Frequent Issues:\")\n",
    "print(df_error_counts.head(10))"
   ]
  },
  {
   "cell_type": "code",
   "execution_count": 43,
   "id": "ec9fd6cd-de28-4b62-9265-bafbedca4f1a",
   "metadata": {},
   "outputs": [
    {
     "name": "stderr",
     "output_type": "stream",
     "text": [
      "/opt/anaconda3/lib/python3.12/site-packages/altair/utils/core.py:395: FutureWarning: the convert_dtype parameter is deprecated and will be removed in a future version.  Do ``ser.astype(object).apply()`` instead if you want ``convert_dtype=False``.\n",
      "  col = df[col_name].apply(to_list_if_array, convert_dtype=False)\n"
     ]
    },
    {
     "data": {
      "text/html": [
       "\n",
       "<style>\n",
       "  #altair-viz-8579e9c808af40dd9530b2b4a213624b.vega-embed {\n",
       "    width: 100%;\n",
       "    display: flex;\n",
       "  }\n",
       "\n",
       "  #altair-viz-8579e9c808af40dd9530b2b4a213624b.vega-embed details,\n",
       "  #altair-viz-8579e9c808af40dd9530b2b4a213624b.vega-embed details summary {\n",
       "    position: relative;\n",
       "  }\n",
       "</style>\n",
       "<div id=\"altair-viz-8579e9c808af40dd9530b2b4a213624b\"></div>\n",
       "<script type=\"text/javascript\">\n",
       "  var VEGA_DEBUG = (typeof VEGA_DEBUG == \"undefined\") ? {} : VEGA_DEBUG;\n",
       "  (function(spec, embedOpt){\n",
       "    let outputDiv = document.currentScript.previousElementSibling;\n",
       "    if (outputDiv.id !== \"altair-viz-8579e9c808af40dd9530b2b4a213624b\") {\n",
       "      outputDiv = document.getElementById(\"altair-viz-8579e9c808af40dd9530b2b4a213624b\");\n",
       "    }\n",
       "    const paths = {\n",
       "      \"vega\": \"https://cdn.jsdelivr.net/npm/vega@5?noext\",\n",
       "      \"vega-lib\": \"https://cdn.jsdelivr.net/npm/vega-lib?noext\",\n",
       "      \"vega-lite\": \"https://cdn.jsdelivr.net/npm/vega-lite@5.8.0?noext\",\n",
       "      \"vega-embed\": \"https://cdn.jsdelivr.net/npm/vega-embed@6?noext\",\n",
       "    };\n",
       "\n",
       "    function maybeLoadScript(lib, version) {\n",
       "      var key = `${lib.replace(\"-\", \"\")}_version`;\n",
       "      return (VEGA_DEBUG[key] == version) ?\n",
       "        Promise.resolve(paths[lib]) :\n",
       "        new Promise(function(resolve, reject) {\n",
       "          var s = document.createElement('script');\n",
       "          document.getElementsByTagName(\"head\")[0].appendChild(s);\n",
       "          s.async = true;\n",
       "          s.onload = () => {\n",
       "            VEGA_DEBUG[key] = version;\n",
       "            return resolve(paths[lib]);\n",
       "          };\n",
       "          s.onerror = () => reject(`Error loading script: ${paths[lib]}`);\n",
       "          s.src = paths[lib];\n",
       "        });\n",
       "    }\n",
       "\n",
       "    function showError(err) {\n",
       "      outputDiv.innerHTML = `<div class=\"error\" style=\"color:red;\">${err}</div>`;\n",
       "      throw err;\n",
       "    }\n",
       "\n",
       "    function displayChart(vegaEmbed) {\n",
       "      vegaEmbed(outputDiv, spec, embedOpt)\n",
       "        .catch(err => showError(`Javascript Error: ${err.message}<br>This usually means there's a typo in your chart specification. See the javascript console for the full traceback.`));\n",
       "    }\n",
       "\n",
       "    if(typeof define === \"function\" && define.amd) {\n",
       "      requirejs.config({paths});\n",
       "      require([\"vega-embed\"], displayChart, err => showError(`Error loading script: ${err.message}`));\n",
       "    } else {\n",
       "      maybeLoadScript(\"vega\", \"5\")\n",
       "        .then(() => maybeLoadScript(\"vega-lite\", \"5.8.0\"))\n",
       "        .then(() => maybeLoadScript(\"vega-embed\", \"6\"))\n",
       "        .catch(showError)\n",
       "        .then(() => displayChart(vegaEmbed));\n",
       "    }\n",
       "  })({\"config\": {\"view\": {\"continuousWidth\": 300, \"continuousHeight\": 300}}, \"data\": {\"name\": \"data-e65a61b062d1be65ac5f192a03d478e5\"}, \"mark\": {\"type\": \"bar\"}, \"encoding\": {\"tooltip\": [{\"field\": \"Error Code\", \"type\": \"nominal\"}, {\"field\": \"Count\", \"type\": \"quantitative\"}], \"x\": {\"field\": \"Error Code\", \"sort\": \"-y\", \"title\": \"Error Code\", \"type\": \"nominal\"}, \"y\": {\"field\": \"Count\", \"title\": \"Frequency\", \"type\": \"quantitative\"}}, \"height\": 400, \"title\": \"Top 10 Most Frequent Linter Issues\", \"width\": 600, \"$schema\": \"https://vega.github.io/schema/vega-lite/v5.8.0.json\", \"datasets\": {\"data-e65a61b062d1be65ac5f192a03d478e5\": [{\"Error Code\": \"C0114\", \"Count\": 460}, {\"Error Code\": \"C0103\", \"Count\": 303}, {\"Error Code\": \"C0303\", \"Count\": 294}, {\"Error Code\": \"C0116\", \"Count\": 287}, {\"Error Code\": \"no-unused-vars\", \"Count\": 245}, {\"Error Code\": \"C0301\", \"Count\": 191}, {\"Error Code\": \"C0115\", \"Count\": 80}, {\"Error Code\": \"SC2164\", \"Count\": 73}, {\"Error Code\": \"W0621\", \"Count\": 61}, {\"Error Code\": \"SC2086\", \"Count\": 61}]}}, {\"mode\": \"vega-lite\"});\n",
       "</script>"
      ],
      "text/plain": [
       "alt.Chart(...)"
      ]
     },
     "execution_count": 43,
     "metadata": {},
     "output_type": "execute_result"
    }
   ],
   "source": [
    "# Create bar chart using Altair\n",
    "chart = alt.Chart(df_error_counts.head(10)).mark_bar().encode(\n",
    "    x=alt.X(\"Error Code:N\", title=\"Error Code\", sort=\"-y\"),\n",
    "    y=alt.Y(\"Count:Q\", title=\"Frequency\"),\n",
    "    tooltip=[\"Error Code\", \"Count\"]\n",
    ").properties(\n",
    "    title=\"Top 10 Most Frequent Linter Issues\",\n",
    "    width=600,\n",
    "    height=400\n",
    ")\n",
    "\n",
    "# Display chart\n",
    "chart"
   ]
  },
  {
   "cell_type": "code",
   "execution_count": 39,
   "id": "9ea81178-83b0-4ffd-b2b8-a0b539ac4691",
   "metadata": {},
   "outputs": [],
   "source": [
    "# C0114: missing-module-docstring, C0103: invalid-name, C0303: trailing-whitespace, C0116: missing-function-docstring,\n",
    "# no-unused-vars: disallow unused variables, C0301: line-too-long, C0115: missing-class-docstring, SC2164: Use `cd ... || exit` in case `cd` fails, \n",
    "# W0621: redefined-outer-name, SC2086: Double quote to prevent globbing and word splitting\n"
   ]
  },
  {
   "cell_type": "code",
   "execution_count": null,
   "id": "4738dabc-7aad-42af-9182-3267f6d26ca2",
   "metadata": {},
   "outputs": [],
   "source": []
  }
 ],
 "metadata": {
  "kernelspec": {
   "display_name": "Python 3 (ipykernel)",
   "language": "python",
   "name": "python3"
  },
  "language_info": {
   "codemirror_mode": {
    "name": "ipython",
    "version": 3
   },
   "file_extension": ".py",
   "mimetype": "text/x-python",
   "name": "python",
   "nbconvert_exporter": "python",
   "pygments_lexer": "ipython3",
   "version": "3.12.2"
  }
 },
 "nbformat": 4,
 "nbformat_minor": 5
}
